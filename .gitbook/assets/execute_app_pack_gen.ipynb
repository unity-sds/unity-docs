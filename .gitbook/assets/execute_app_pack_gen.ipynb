{
 "cells": [
  {
   "cell_type": "code",
   "execution_count": null,
   "id": "f8209773-02dc-4233-9edc-8c0405cdcefc",
   "metadata": {},
   "outputs": [],
   "source": [
    "import requests\n",
    "\n",
    "from unity_sds_client.unity import Unity\n",
    "from unity_sds_client.unity import UnityEnvironments"
   ]
  },
  {
   "cell_type": "code",
   "execution_count": null,
   "id": "5693228e-67b4-4a26-b65d-ec868fcfd0db",
   "metadata": {},
   "outputs": [],
   "source": [
    "# if you're reading this as a user, you probably have a 'TEST' or 'PROD' user account. This will be updated to work though unity-py directly.t\n",
    "s = Unity(UnityEnvironments.PROD)\n",
    "token = s._session.get_auth().get_token()"
   ]
  },
  {
   "cell_type": "code",
   "execution_count": null,
   "id": "dabfc3b8-e2c7-4278-90fb-ce22897296c0",
   "metadata": {},
   "outputs": [],
   "source": [
    "# Requires User to change the path to the application URL\n",
    "clone_url = \"https://github.com/unity-sds/unity-tutorial-application\""
   ]
  },
  {
   "cell_type": "code",
   "execution_count": null,
   "id": "12f49227-7a72-4c71-a831-889b88ab617b",
   "metadata": {},
   "outputs": [],
   "source": [
    "api_url = \"https://api.mdps.mcp.nasa.gov/ads-acb/mcp-clone\"\n",
    "\n",
    "response = requests.get(api_url, \n",
    "    headers = { 'content-type': 'application/json',\n",
    "                'Authorization': 'Bearer ' + token,\n",
    "                'clone_url': clone_url })"
   ]
  },
  {
   "cell_type": "code",
   "execution_count": null,
   "id": "dd3da634-2d63-463e-906e-4efe841e87a6",
   "metadata": {},
   "outputs": [],
   "source": [
    "response.status_code"
   ]
  },
  {
   "cell_type": "code",
   "execution_count": null,
   "id": "16e6f01f-1bac-4d78-993c-c20a586d0f43",
   "metadata": {},
   "outputs": [],
   "source": [
    "response.content"
   ]
  }
 ],
 "metadata": {
  "kernelspec": {
   "display_name": "Python 3 (ipykernel)",
   "language": "python",
   "name": "python3"
  },
  "language_info": {
   "codemirror_mode": {
    "name": "ipython",
    "version": 3
   },
   "file_extension": ".py",
   "mimetype": "text/x-python",
   "name": "python",
   "nbconvert_exporter": "python",
   "pygments_lexer": "ipython3",
   "version": "3.12.7"
  }
 },
 "nbformat": 4,
 "nbformat_minor": 5
}
